{
 "cells": [
  {
   "cell_type": "code",
   "execution_count": 4,
   "id": "ca648da4-0e37-4ed3-938d-7da9bcee7ce4",
   "metadata": {},
   "outputs": [
    {
     "name": "stdout",
     "output_type": "stream",
     "text": [
      "Defaulting to user installation because normal site-packages is not writeable\n",
      "Requirement already satisfied: pyspark in c:\\users\\vivek kumar\\appdata\\roaming\\python\\python312\\site-packages (3.5.1)\n",
      "Requirement already satisfied: py4j==0.10.9.7 in c:\\users\\vivek kumar\\appdata\\roaming\\python\\python312\\site-packages (from pyspark) (0.10.9.7)\n"
     ]
    }
   ],
   "source": [
    "!pip install pyspark"
   ]
  },
  {
   "cell_type": "code",
   "execution_count": 7,
   "id": "d983def7-33a0-4af8-9ea9-db0e35f41a60",
   "metadata": {},
   "outputs": [
    {
     "name": "stdout",
     "output_type": "stream",
     "text": [
      "Defaulting to user installation because normal site-packages is not writeable\n",
      "Collecting pandas\n",
      "  Downloading pandas-2.2.2-cp312-cp312-win_amd64.whl.metadata (19 kB)\n",
      "Collecting numpy>=1.26.0 (from pandas)\n",
      "  Downloading numpy-2.0.0-cp312-cp312-win_amd64.whl.metadata (60 kB)\n",
      "     ---------------------------------------- 0.0/60.9 kB ? eta -:--:--\n",
      "     ---------------------------------------- 60.9/60.9 kB 1.6 MB/s eta 0:00:00\n",
      "Requirement already satisfied: python-dateutil>=2.8.2 in c:\\users\\vivek kumar\\appdata\\roaming\\python\\python312\\site-packages (from pandas) (2.9.0.post0)\n",
      "Collecting pytz>=2020.1 (from pandas)\n",
      "  Downloading pytz-2024.1-py2.py3-none-any.whl.metadata (22 kB)\n",
      "Collecting tzdata>=2022.7 (from pandas)\n",
      "  Downloading tzdata-2024.1-py2.py3-none-any.whl.metadata (1.4 kB)\n",
      "Requirement already satisfied: six>=1.5 in c:\\users\\vivek kumar\\appdata\\roaming\\python\\python312\\site-packages (from python-dateutil>=2.8.2->pandas) (1.16.0)\n",
      "Downloading pandas-2.2.2-cp312-cp312-win_amd64.whl (11.5 MB)\n",
      "   ---------------------------------------- 0.0/11.5 MB ? eta -:--:--\n",
      "    --------------------------------------- 0.2/11.5 MB 3.9 MB/s eta 0:00:03\n",
      "   - -------------------------------------- 0.6/11.5 MB 5.8 MB/s eta 0:00:02\n",
      "   ---- ----------------------------------- 1.2/11.5 MB 8.3 MB/s eta 0:00:02\n",
      "   ------- -------------------------------- 2.3/11.5 MB 13.2 MB/s eta 0:00:01\n",
      "   ---------- ----------------------------- 3.0/11.5 MB 12.9 MB/s eta 0:00:01\n",
      "   ----------- ---------------------------- 3.3/11.5 MB 14.1 MB/s eta 0:00:01\n",
      "   ----------- ---------------------------- 3.3/11.5 MB 14.1 MB/s eta 0:00:01\n",
      "   ------------------ --------------------- 5.4/11.5 MB 14.5 MB/s eta 0:00:01\n",
      "   ----------------------- ---------------- 6.9/11.5 MB 16.9 MB/s eta 0:00:01\n",
      "   ----------------------------- ---------- 8.6/11.5 MB 18.3 MB/s eta 0:00:01\n",
      "   ------------------------------- -------- 9.0/11.5 MB 17.5 MB/s eta 0:00:01\n",
      "   --------------------------------- ------ 9.6/11.5 MB 17.5 MB/s eta 0:00:01\n",
      "   --------------------------------- ------ 9.6/11.5 MB 17.5 MB/s eta 0:00:01\n",
      "   --------------------------------- ------ 9.6/11.5 MB 17.5 MB/s eta 0:00:01\n",
      "   --------------------------------- ------ 9.6/11.5 MB 17.5 MB/s eta 0:00:01\n",
      "   --------------------------------- ------ 9.6/11.5 MB 17.5 MB/s eta 0:00:01\n",
      "   --------------------------------- ------ 9.6/11.5 MB 17.5 MB/s eta 0:00:01\n",
      "   --------------------------------- ------ 9.6/11.5 MB 17.5 MB/s eta 0:00:01\n",
      "   --------------------------------- ------ 9.6/11.5 MB 17.5 MB/s eta 0:00:01\n",
      "   --------------------------------- ------ 9.6/11.5 MB 17.5 MB/s eta 0:00:01\n",
      "   --------------------------------- ------ 9.6/11.5 MB 17.5 MB/s eta 0:00:01\n",
      "   --------------------------------- ------ 9.6/11.5 MB 9.3 MB/s eta 0:00:01\n",
      "   ---------------------------------- ----- 10.0/11.5 MB 9.4 MB/s eta 0:00:01\n",
      "   ---------------------------------------  11.5/11.5 MB 10.6 MB/s eta 0:00:01\n",
      "   ---------------------------------------  11.5/11.5 MB 10.6 MB/s eta 0:00:01\n",
      "   ---------------------------------------- 11.5/11.5 MB 9.8 MB/s eta 0:00:00\n",
      "Downloading numpy-2.0.0-cp312-cp312-win_amd64.whl (16.2 MB)\n",
      "   ---------------------------------------- 0.0/16.2 MB ? eta -:--:--\n",
      "   --- ------------------------------------ 1.3/16.2 MB 27.2 MB/s eta 0:00:01\n",
      "   ------ --------------------------------- 2.7/16.2 MB 28.3 MB/s eta 0:00:01\n",
      "   ------- -------------------------------- 3.0/16.2 MB 32.1 MB/s eta 0:00:01\n",
      "   ------- -------------------------------- 3.0/16.2 MB 32.1 MB/s eta 0:00:01\n",
      "   ------- -------------------------------- 3.0/16.2 MB 32.1 MB/s eta 0:00:01\n",
      "   ------- -------------------------------- 3.0/16.2 MB 32.1 MB/s eta 0:00:01\n",
      "   ------- -------------------------------- 3.0/16.2 MB 32.1 MB/s eta 0:00:01\n",
      "   ------- -------------------------------- 3.0/16.2 MB 32.1 MB/s eta 0:00:01\n",
      "   ------- -------------------------------- 3.0/16.2 MB 32.1 MB/s eta 0:00:01\n",
      "   ------- -------------------------------- 3.0/16.2 MB 32.1 MB/s eta 0:00:01\n",
      "   ------- -------------------------------- 3.0/16.2 MB 32.1 MB/s eta 0:00:01\n",
      "   ------- -------------------------------- 3.0/16.2 MB 32.1 MB/s eta 0:00:01\n",
      "   ------- -------------------------------- 3.0/16.2 MB 32.1 MB/s eta 0:00:01\n",
      "   ------- -------------------------------- 3.0/16.2 MB 32.1 MB/s eta 0:00:01\n",
      "   ------- -------------------------------- 3.0/16.2 MB 32.1 MB/s eta 0:00:01\n",
      "   ------- -------------------------------- 3.0/16.2 MB 32.1 MB/s eta 0:00:01\n",
      "   ------- -------------------------------- 3.0/16.2 MB 32.1 MB/s eta 0:00:01\n",
      "   ------- -------------------------------- 3.0/16.2 MB 32.1 MB/s eta 0:00:01\n",
      "   ------- -------------------------------- 3.0/16.2 MB 32.1 MB/s eta 0:00:01\n",
      "   ------- -------------------------------- 3.0/16.2 MB 32.1 MB/s eta 0:00:01\n",
      "   ------- -------------------------------- 3.0/16.2 MB 32.1 MB/s eta 0:00:01\n",
      "   ------- -------------------------------- 3.0/16.2 MB 32.1 MB/s eta 0:00:01\n",
      "   ------- -------------------------------- 3.0/16.2 MB 32.1 MB/s eta 0:00:01\n",
      "   ------- -------------------------------- 3.0/16.2 MB 32.1 MB/s eta 0:00:01\n",
      "   ------- -------------------------------- 3.0/16.2 MB 32.1 MB/s eta 0:00:01\n",
      "   ------- -------------------------------- 3.0/16.2 MB 32.1 MB/s eta 0:00:01\n",
      "   ------- -------------------------------- 3.0/16.2 MB 32.1 MB/s eta 0:00:01\n",
      "   ------- -------------------------------- 3.0/16.2 MB 32.1 MB/s eta 0:00:01\n",
      "   ------- -------------------------------- 3.0/16.2 MB 32.1 MB/s eta 0:00:01\n",
      "   ------- -------------------------------- 3.0/16.2 MB 32.1 MB/s eta 0:00:01\n",
      "   ------- -------------------------------- 3.2/16.2 MB 2.1 MB/s eta 0:00:07\n",
      "   -------- ------------------------------- 3.4/16.2 MB 2.2 MB/s eta 0:00:06\n",
      "   -------- ------------------------------- 3.5/16.2 MB 2.2 MB/s eta 0:00:06\n",
      "   --------- ------------------------------ 3.8/16.2 MB 2.4 MB/s eta 0:00:06\n",
      "   ---------- ----------------------------- 4.4/16.2 MB 2.6 MB/s eta 0:00:05\n",
      "   ----------- ---------------------------- 4.7/16.2 MB 2.7 MB/s eta 0:00:05\n",
      "   ------------ --------------------------- 4.9/16.2 MB 2.8 MB/s eta 0:00:05\n",
      "   ------------- -------------------------- 5.6/16.2 MB 3.1 MB/s eta 0:00:04\n",
      "   -------------- ------------------------- 6.0/16.2 MB 3.2 MB/s eta 0:00:04\n",
      "   ---------------- ----------------------- 6.8/16.2 MB 3.5 MB/s eta 0:00:03\n",
      "   ------------------ --------------------- 7.5/16.2 MB 3.9 MB/s eta 0:00:03\n",
      "   --------------------- ------------------ 8.7/16.2 MB 4.3 MB/s eta 0:00:02\n",
      "   ------------------------ --------------- 9.9/16.2 MB 4.8 MB/s eta 0:00:02\n",
      "   ------------------------- -------------- 10.3/16.2 MB 5.0 MB/s eta 0:00:02\n",
      "   ------------------------- -------------- 10.3/16.2 MB 5.0 MB/s eta 0:00:02\n",
      "   ------------------------- -------------- 10.3/16.2 MB 5.0 MB/s eta 0:00:02\n",
      "   ------------------------- -------------- 10.3/16.2 MB 5.0 MB/s eta 0:00:02\n",
      "   ------------------------- -------------- 10.3/16.2 MB 5.0 MB/s eta 0:00:02\n",
      "   ------------------------- -------------- 10.3/16.2 MB 5.0 MB/s eta 0:00:02\n",
      "   ------------------------- -------------- 10.3/16.2 MB 5.0 MB/s eta 0:00:02\n",
      "   ------------------------- -------------- 10.3/16.2 MB 5.0 MB/s eta 0:00:02\n",
      "   ------------------------- -------------- 10.3/16.2 MB 5.0 MB/s eta 0:00:02\n",
      "   ---------------------------- ----------- 11.6/16.2 MB 4.2 MB/s eta 0:00:02\n",
      "   ----------------------------- ---------- 12.1/16.2 MB 4.1 MB/s eta 0:00:01\n",
      "   ------------------------------- -------- 12.6/16.2 MB 4.1 MB/s eta 0:00:01\n",
      "   --------------------------------- ------ 13.4/16.2 MB 8.8 MB/s eta 0:00:01\n",
      "   ----------------------------------- ---- 14.3/16.2 MB 9.9 MB/s eta 0:00:01\n",
      "   ------------------------------------- -- 15.2/16.2 MB 10.6 MB/s eta 0:00:01\n",
      "   ------------------------------------- -- 15.2/16.2 MB 10.6 MB/s eta 0:00:01\n",
      "   ------------------------------------- -- 15.2/16.2 MB 10.6 MB/s eta 0:00:01\n",
      "   ------------------------------------- -- 15.2/16.2 MB 10.6 MB/s eta 0:00:01\n",
      "   ------------------------------------- -- 15.2/16.2 MB 10.6 MB/s eta 0:00:01\n",
      "   ------------------------------------- -- 15.2/16.2 MB 10.6 MB/s eta 0:00:01\n",
      "   ------------------------------------- -- 15.2/16.2 MB 10.6 MB/s eta 0:00:01\n",
      "   ------------------------------------- -- 15.2/16.2 MB 10.6 MB/s eta 0:00:01\n",
      "   ------------------------------------- -- 15.2/16.2 MB 10.6 MB/s eta 0:00:01\n",
      "   ------------------------------------- -- 15.2/16.2 MB 10.6 MB/s eta 0:00:01\n",
      "   -------------------------------------- - 15.7/16.2 MB 7.3 MB/s eta 0:00:01\n",
      "   ---------------------------------------  16.2/16.2 MB 7.4 MB/s eta 0:00:01\n",
      "   ---------------------------------------  16.2/16.2 MB 7.4 MB/s eta 0:00:01\n",
      "   ---------------------------------------- 16.2/16.2 MB 7.0 MB/s eta 0:00:00\n",
      "Downloading pytz-2024.1-py2.py3-none-any.whl (505 kB)\n",
      "   ---------------------------------------- 0.0/505.5 kB ? eta -:--:--\n",
      "   --------------------------------------  501.8/505.5 kB 30.7 MB/s eta 0:00:01\n",
      "   --------------------------------------- 505.5/505.5 kB 15.5 MB/s eta 0:00:00\n",
      "Downloading tzdata-2024.1-py2.py3-none-any.whl (345 kB)\n",
      "   ---------------------------------------- 0.0/345.4 kB ? eta -:--:--\n",
      "   --------------------------------------- 345.4/345.4 kB 10.8 MB/s eta 0:00:00\n",
      "Installing collected packages: pytz, tzdata, numpy, pandas\n",
      "Successfully installed numpy-2.0.0 pandas-2.2.2 pytz-2024.1 tzdata-2024.1\n"
     ]
    },
    {
     "name": "stderr",
     "output_type": "stream",
     "text": [
      "  WARNING: The scripts f2py.exe and numpy-config.exe are installed in 'C:\\Users\\VIVEK KUMAR\\AppData\\Roaming\\Python\\Python312\\Scripts' which is not on PATH.\n",
      "  Consider adding this directory to PATH or, if you prefer to suppress this warning, use --no-warn-script-location.\n"
     ]
    }
   ],
   "source": [
    "import pyspark\n",
    "!pip install pandas"
   ]
  },
  {
   "cell_type": "code",
   "execution_count": 10,
   "id": "17bb5207-3ce4-4672-9dc8-c204694b3ed9",
   "metadata": {},
   "outputs": [
    {
     "data": {
      "text/html": [
       "<div>\n",
       "<style scoped>\n",
       "    .dataframe tbody tr th:only-of-type {\n",
       "        vertical-align: middle;\n",
       "    }\n",
       "\n",
       "    .dataframe tbody tr th {\n",
       "        vertical-align: top;\n",
       "    }\n",
       "\n",
       "    .dataframe thead th {\n",
       "        text-align: right;\n",
       "    }\n",
       "</style>\n",
       "<table border=\"1\" class=\"dataframe\">\n",
       "  <thead>\n",
       "    <tr style=\"text-align: right;\">\n",
       "      <th></th>\n",
       "      <th>Name</th>\n",
       "      <th>Age</th>\n",
       "    </tr>\n",
       "  </thead>\n",
       "  <tbody>\n",
       "    <tr>\n",
       "      <th>0</th>\n",
       "      <td>vivek</td>\n",
       "      <td>20</td>\n",
       "    </tr>\n",
       "    <tr>\n",
       "      <th>1</th>\n",
       "      <td>bagula</td>\n",
       "      <td>19</td>\n",
       "    </tr>\n",
       "    <tr>\n",
       "      <th>2</th>\n",
       "      <td>manga</td>\n",
       "      <td>18</td>\n",
       "    </tr>\n",
       "  </tbody>\n",
       "</table>\n",
       "</div>"
      ],
      "text/plain": [
       "     Name  Age\n",
       "0   vivek   20\n",
       "1  bagula   19\n",
       "2   manga   18"
      ]
     },
     "execution_count": 10,
     "metadata": {},
     "output_type": "execute_result"
    }
   ],
   "source": [
    "import pandas as pd\n",
    "pd.read_csv('basic.csv')"
   ]
  },
  {
   "cell_type": "code",
   "execution_count": 12,
   "id": "acb91292-8a45-4f39-bad3-810d10bf897d",
   "metadata": {},
   "outputs": [],
   "source": [
    "from pyspark.sql import SparkSession"
   ]
  },
  {
   "cell_type": "code",
   "execution_count": null,
   "id": "642ce9d1-5ae1-4bc0-a020-d5c46cadab8b",
   "metadata": {},
   "outputs": [],
   "source": [
    "spark=SparkSession.builder.appName('Practise').getOrCreate()"
   ]
  },
  {
   "cell_type": "code",
   "execution_count": null,
   "id": "55deef80-f0d2-461e-80c6-4e9017117444",
   "metadata": {},
   "outputs": [],
   "source": [
    "spark"
   ]
  },
  {
   "cell_type": "code",
   "execution_count": null,
   "id": "d3d341e4-069d-4ca3-ba55-b57cb224a4a7",
   "metadata": {},
   "outputs": [],
   "source": [
    "df_pyspark=spark.read.csv('basic.csv')"
   ]
  },
  {
   "cell_type": "code",
   "execution_count": null,
   "id": "8cd15779-d06e-4dbb-8498-b5237025ece6",
   "metadata": {},
   "outputs": [],
   "source": [
    "df_pyspark=spark.read.option('header','true').csv('basic.csv')"
   ]
  },
  {
   "cell_type": "code",
   "execution_count": null,
   "id": "9851860f-ae91-4b00-95be-98dace38b72f",
   "metadata": {},
   "outputs": [],
   "source": [
    "type(df_pyspark)"
   ]
  },
  {
   "cell_type": "code",
   "execution_count": null,
   "id": "95133fb7-b612-4f0b-99bb-c8d5b58500b5",
   "metadata": {},
   "outputs": [],
   "source": [
    "df_pyspark.head(3)"
   ]
  },
  {
   "cell_type": "code",
   "execution_count": null,
   "id": "93f66f49-ee8d-45da-9956-3fb7a65c1dd4",
   "metadata": {},
   "outputs": [],
   "source": [
    "df_pyspark.printSchema()"
   ]
  },
  {
   "cell_type": "code",
   "execution_count": null,
   "id": "5e8d2839-edb9-4c73-84fb-9f209267b14c",
   "metadata": {},
   "outputs": [],
   "source": []
  }
 ],
 "metadata": {
  "kernelspec": {
   "display_name": "Python 3 (ipykernel)",
   "language": "python",
   "name": "python3"
  },
  "language_info": {
   "codemirror_mode": {
    "name": "ipython",
    "version": 3
   },
   "file_extension": ".py",
   "mimetype": "text/x-python",
   "name": "python",
   "nbconvert_exporter": "python",
   "pygments_lexer": "ipython3",
   "version": "3.12.4"
  }
 },
 "nbformat": 4,
 "nbformat_minor": 5
}
